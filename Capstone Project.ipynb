{
 "cells": [
  {
   "cell_type": "code",
   "execution_count": 1,
   "metadata": {},
   "outputs": [
    {
     "name": "stdout",
     "output_type": "stream",
     "text": [
      "Hello Capstone Project Course!\n"
     ]
    }
   ],
   "source": [
    "# This notebook will be mostly used for capstone project\"\n",
    "\n",
    "import pandas as pd# primary data structure library\n",
    "import numpy as np  # useful for many scientific computing in Python\n",
    "print (\"Hello Capstone Project Course!\") # Command for printing"
   ]
  },
  {
   "cell_type": "code",
   "execution_count": 2,
   "metadata": {},
   "outputs": [
    {
     "data": {
      "text/html": [
       "<div>\n",
       "<style scoped>\n",
       "    .dataframe tbody tr th:only-of-type {\n",
       "        vertical-align: middle;\n",
       "    }\n",
       "\n",
       "    .dataframe tbody tr th {\n",
       "        vertical-align: top;\n",
       "    }\n",
       "\n",
       "    .dataframe thead th {\n",
       "        text-align: right;\n",
       "    }\n",
       "</style>\n",
       "<table border=\"1\" class=\"dataframe\">\n",
       "  <thead>\n",
       "    <tr style=\"text-align: right;\">\n",
       "      <th></th>\n",
       "      <th>SEVERITYCODE</th>\n",
       "      <th>X</th>\n",
       "      <th>Y</th>\n",
       "      <th>OBJECTID</th>\n",
       "      <th>INCKEY</th>\n",
       "      <th>COLDETKEY</th>\n",
       "      <th>REPORTNO</th>\n",
       "      <th>STATUS</th>\n",
       "      <th>ADDRTYPE</th>\n",
       "      <th>INTKEY</th>\n",
       "      <th>...</th>\n",
       "      <th>ROADCOND</th>\n",
       "      <th>LIGHTCOND</th>\n",
       "      <th>PEDROWNOTGRNT</th>\n",
       "      <th>SDOTCOLNUM</th>\n",
       "      <th>SPEEDING</th>\n",
       "      <th>ST_COLCODE</th>\n",
       "      <th>ST_COLDESC</th>\n",
       "      <th>SEGLANEKEY</th>\n",
       "      <th>CROSSWALKKEY</th>\n",
       "      <th>HITPARKEDCAR</th>\n",
       "    </tr>\n",
       "  </thead>\n",
       "  <tbody>\n",
       "    <tr>\n",
       "      <th>0</th>\n",
       "      <td>2</td>\n",
       "      <td>-122.323148</td>\n",
       "      <td>47.703140</td>\n",
       "      <td>1</td>\n",
       "      <td>1307</td>\n",
       "      <td>1307</td>\n",
       "      <td>3502005</td>\n",
       "      <td>Matched</td>\n",
       "      <td>Intersection</td>\n",
       "      <td>37475.0</td>\n",
       "      <td>...</td>\n",
       "      <td>Wet</td>\n",
       "      <td>Daylight</td>\n",
       "      <td>NaN</td>\n",
       "      <td>NaN</td>\n",
       "      <td>NaN</td>\n",
       "      <td>10</td>\n",
       "      <td>Entering at angle</td>\n",
       "      <td>0</td>\n",
       "      <td>0</td>\n",
       "      <td>N</td>\n",
       "    </tr>\n",
       "    <tr>\n",
       "      <th>1</th>\n",
       "      <td>1</td>\n",
       "      <td>-122.347294</td>\n",
       "      <td>47.647172</td>\n",
       "      <td>2</td>\n",
       "      <td>52200</td>\n",
       "      <td>52200</td>\n",
       "      <td>2607959</td>\n",
       "      <td>Matched</td>\n",
       "      <td>Block</td>\n",
       "      <td>NaN</td>\n",
       "      <td>...</td>\n",
       "      <td>Wet</td>\n",
       "      <td>Dark - Street Lights On</td>\n",
       "      <td>NaN</td>\n",
       "      <td>6354039.0</td>\n",
       "      <td>NaN</td>\n",
       "      <td>11</td>\n",
       "      <td>From same direction - both going straight - bo...</td>\n",
       "      <td>0</td>\n",
       "      <td>0</td>\n",
       "      <td>N</td>\n",
       "    </tr>\n",
       "    <tr>\n",
       "      <th>2</th>\n",
       "      <td>1</td>\n",
       "      <td>-122.334540</td>\n",
       "      <td>47.607871</td>\n",
       "      <td>3</td>\n",
       "      <td>26700</td>\n",
       "      <td>26700</td>\n",
       "      <td>1482393</td>\n",
       "      <td>Matched</td>\n",
       "      <td>Block</td>\n",
       "      <td>NaN</td>\n",
       "      <td>...</td>\n",
       "      <td>Dry</td>\n",
       "      <td>Daylight</td>\n",
       "      <td>NaN</td>\n",
       "      <td>4323031.0</td>\n",
       "      <td>NaN</td>\n",
       "      <td>32</td>\n",
       "      <td>One parked--one moving</td>\n",
       "      <td>0</td>\n",
       "      <td>0</td>\n",
       "      <td>N</td>\n",
       "    </tr>\n",
       "    <tr>\n",
       "      <th>3</th>\n",
       "      <td>1</td>\n",
       "      <td>-122.334803</td>\n",
       "      <td>47.604803</td>\n",
       "      <td>4</td>\n",
       "      <td>1144</td>\n",
       "      <td>1144</td>\n",
       "      <td>3503937</td>\n",
       "      <td>Matched</td>\n",
       "      <td>Block</td>\n",
       "      <td>NaN</td>\n",
       "      <td>...</td>\n",
       "      <td>Dry</td>\n",
       "      <td>Daylight</td>\n",
       "      <td>NaN</td>\n",
       "      <td>NaN</td>\n",
       "      <td>NaN</td>\n",
       "      <td>23</td>\n",
       "      <td>From same direction - all others</td>\n",
       "      <td>0</td>\n",
       "      <td>0</td>\n",
       "      <td>N</td>\n",
       "    </tr>\n",
       "    <tr>\n",
       "      <th>4</th>\n",
       "      <td>2</td>\n",
       "      <td>-122.306426</td>\n",
       "      <td>47.545739</td>\n",
       "      <td>5</td>\n",
       "      <td>17700</td>\n",
       "      <td>17700</td>\n",
       "      <td>1807429</td>\n",
       "      <td>Matched</td>\n",
       "      <td>Intersection</td>\n",
       "      <td>34387.0</td>\n",
       "      <td>...</td>\n",
       "      <td>Wet</td>\n",
       "      <td>Daylight</td>\n",
       "      <td>NaN</td>\n",
       "      <td>4028032.0</td>\n",
       "      <td>NaN</td>\n",
       "      <td>10</td>\n",
       "      <td>Entering at angle</td>\n",
       "      <td>0</td>\n",
       "      <td>0</td>\n",
       "      <td>N</td>\n",
       "    </tr>\n",
       "  </tbody>\n",
       "</table>\n",
       "<p>5 rows × 38 columns</p>\n",
       "</div>"
      ],
      "text/plain": [
       "   SEVERITYCODE           X          Y  OBJECTID  INCKEY  COLDETKEY REPORTNO  \\\n",
       "0             2 -122.323148  47.703140         1    1307       1307  3502005   \n",
       "1             1 -122.347294  47.647172         2   52200      52200  2607959   \n",
       "2             1 -122.334540  47.607871         3   26700      26700  1482393   \n",
       "3             1 -122.334803  47.604803         4    1144       1144  3503937   \n",
       "4             2 -122.306426  47.545739         5   17700      17700  1807429   \n",
       "\n",
       "    STATUS      ADDRTYPE   INTKEY  ... ROADCOND                LIGHTCOND  \\\n",
       "0  Matched  Intersection  37475.0  ...      Wet                 Daylight   \n",
       "1  Matched         Block      NaN  ...      Wet  Dark - Street Lights On   \n",
       "2  Matched         Block      NaN  ...      Dry                 Daylight   \n",
       "3  Matched         Block      NaN  ...      Dry                 Daylight   \n",
       "4  Matched  Intersection  34387.0  ...      Wet                 Daylight   \n",
       "\n",
       "  PEDROWNOTGRNT  SDOTCOLNUM SPEEDING ST_COLCODE  \\\n",
       "0           NaN         NaN      NaN         10   \n",
       "1           NaN   6354039.0      NaN         11   \n",
       "2           NaN   4323031.0      NaN         32   \n",
       "3           NaN         NaN      NaN         23   \n",
       "4           NaN   4028032.0      NaN         10   \n",
       "\n",
       "                                          ST_COLDESC  SEGLANEKEY  \\\n",
       "0                                  Entering at angle           0   \n",
       "1  From same direction - both going straight - bo...           0   \n",
       "2                             One parked--one moving           0   \n",
       "3                   From same direction - all others           0   \n",
       "4                                  Entering at angle           0   \n",
       "\n",
       "   CROSSWALKKEY  HITPARKEDCAR  \n",
       "0             0             N  \n",
       "1             0             N  \n",
       "2             0             N  \n",
       "3             0             N  \n",
       "4             0             N  \n",
       "\n",
       "[5 rows x 38 columns]"
      ]
     },
     "execution_count": 2,
     "metadata": {},
     "output_type": "execute_result"
    }
   ],
   "source": [
    "df = pd.read_csv(\"https://s3.us.cloud-object-storage.appdomain.cloud/cf-courses-data/CognitiveClass/DP0701EN/version-2/Data-Collisions.csv\", low_memory=False)\n",
    "df.head()"
   ]
  },
  {
   "cell_type": "code",
   "execution_count": 3,
   "metadata": {},
   "outputs": [],
   "source": [
    "colData = df[['SEVERITYCODE', 'X', 'Y', 'ADDRTYPE', 'COLLISIONTYPE',\n",
    "               'PERSONCOUNT', 'VEHCOUNT', 'JUNCTIONTYPE',  'WEATHER', 'ROADCOND', 'LIGHTCOND', \n",
    "               'SPEEDING', 'UNDERINFL', 'INATTENTIONIND']]\n",
    "#Location, Road Condition, Weather Condition, Junction Type, Car Speeding, Number of People Involved, Light Conditions, Number of Vehicles involved"
   ]
  },
  {
   "cell_type": "code",
   "execution_count": 4,
   "metadata": {},
   "outputs": [
    {
     "data": {
      "text/html": [
       "<div>\n",
       "<style scoped>\n",
       "    .dataframe tbody tr th:only-of-type {\n",
       "        vertical-align: middle;\n",
       "    }\n",
       "\n",
       "    .dataframe tbody tr th {\n",
       "        vertical-align: top;\n",
       "    }\n",
       "\n",
       "    .dataframe thead th {\n",
       "        text-align: right;\n",
       "    }\n",
       "</style>\n",
       "<table border=\"1\" class=\"dataframe\">\n",
       "  <thead>\n",
       "    <tr style=\"text-align: right;\">\n",
       "      <th></th>\n",
       "      <th>SEVERITYCODE</th>\n",
       "      <th>X</th>\n",
       "      <th>Y</th>\n",
       "      <th>ADDRTYPE</th>\n",
       "      <th>COLLISIONTYPE</th>\n",
       "      <th>PERSONCOUNT</th>\n",
       "      <th>VEHCOUNT</th>\n",
       "      <th>JUNCTIONTYPE</th>\n",
       "      <th>WEATHER</th>\n",
       "      <th>ROADCOND</th>\n",
       "      <th>LIGHTCOND</th>\n",
       "      <th>SPEEDING</th>\n",
       "      <th>UNDERINFL</th>\n",
       "      <th>INATTENTIONIND</th>\n",
       "    </tr>\n",
       "  </thead>\n",
       "  <tbody>\n",
       "    <tr>\n",
       "      <th>0</th>\n",
       "      <td>2</td>\n",
       "      <td>-122.323148</td>\n",
       "      <td>47.703140</td>\n",
       "      <td>Intersection</td>\n",
       "      <td>Angles</td>\n",
       "      <td>2</td>\n",
       "      <td>2</td>\n",
       "      <td>At Intersection (intersection related)</td>\n",
       "      <td>Overcast</td>\n",
       "      <td>Wet</td>\n",
       "      <td>Daylight</td>\n",
       "      <td>NaN</td>\n",
       "      <td>N</td>\n",
       "      <td>NaN</td>\n",
       "    </tr>\n",
       "    <tr>\n",
       "      <th>1</th>\n",
       "      <td>1</td>\n",
       "      <td>-122.347294</td>\n",
       "      <td>47.647172</td>\n",
       "      <td>Block</td>\n",
       "      <td>Sideswipe</td>\n",
       "      <td>2</td>\n",
       "      <td>2</td>\n",
       "      <td>Mid-Block (not related to intersection)</td>\n",
       "      <td>Raining</td>\n",
       "      <td>Wet</td>\n",
       "      <td>Dark - Street Lights On</td>\n",
       "      <td>NaN</td>\n",
       "      <td>0</td>\n",
       "      <td>NaN</td>\n",
       "    </tr>\n",
       "    <tr>\n",
       "      <th>2</th>\n",
       "      <td>1</td>\n",
       "      <td>-122.334540</td>\n",
       "      <td>47.607871</td>\n",
       "      <td>Block</td>\n",
       "      <td>Parked Car</td>\n",
       "      <td>4</td>\n",
       "      <td>3</td>\n",
       "      <td>Mid-Block (not related to intersection)</td>\n",
       "      <td>Overcast</td>\n",
       "      <td>Dry</td>\n",
       "      <td>Daylight</td>\n",
       "      <td>NaN</td>\n",
       "      <td>0</td>\n",
       "      <td>NaN</td>\n",
       "    </tr>\n",
       "    <tr>\n",
       "      <th>3</th>\n",
       "      <td>1</td>\n",
       "      <td>-122.334803</td>\n",
       "      <td>47.604803</td>\n",
       "      <td>Block</td>\n",
       "      <td>Other</td>\n",
       "      <td>3</td>\n",
       "      <td>3</td>\n",
       "      <td>Mid-Block (not related to intersection)</td>\n",
       "      <td>Clear</td>\n",
       "      <td>Dry</td>\n",
       "      <td>Daylight</td>\n",
       "      <td>NaN</td>\n",
       "      <td>N</td>\n",
       "      <td>NaN</td>\n",
       "    </tr>\n",
       "    <tr>\n",
       "      <th>4</th>\n",
       "      <td>2</td>\n",
       "      <td>-122.306426</td>\n",
       "      <td>47.545739</td>\n",
       "      <td>Intersection</td>\n",
       "      <td>Angles</td>\n",
       "      <td>2</td>\n",
       "      <td>2</td>\n",
       "      <td>At Intersection (intersection related)</td>\n",
       "      <td>Raining</td>\n",
       "      <td>Wet</td>\n",
       "      <td>Daylight</td>\n",
       "      <td>NaN</td>\n",
       "      <td>0</td>\n",
       "      <td>NaN</td>\n",
       "    </tr>\n",
       "  </tbody>\n",
       "</table>\n",
       "</div>"
      ],
      "text/plain": [
       "   SEVERITYCODE           X          Y      ADDRTYPE COLLISIONTYPE  \\\n",
       "0             2 -122.323148  47.703140  Intersection        Angles   \n",
       "1             1 -122.347294  47.647172         Block     Sideswipe   \n",
       "2             1 -122.334540  47.607871         Block    Parked Car   \n",
       "3             1 -122.334803  47.604803         Block         Other   \n",
       "4             2 -122.306426  47.545739  Intersection        Angles   \n",
       "\n",
       "   PERSONCOUNT  VEHCOUNT                             JUNCTIONTYPE   WEATHER  \\\n",
       "0            2         2   At Intersection (intersection related)  Overcast   \n",
       "1            2         2  Mid-Block (not related to intersection)   Raining   \n",
       "2            4         3  Mid-Block (not related to intersection)  Overcast   \n",
       "3            3         3  Mid-Block (not related to intersection)     Clear   \n",
       "4            2         2   At Intersection (intersection related)   Raining   \n",
       "\n",
       "  ROADCOND                LIGHTCOND SPEEDING UNDERINFL INATTENTIONIND  \n",
       "0      Wet                 Daylight      NaN         N            NaN  \n",
       "1      Wet  Dark - Street Lights On      NaN         0            NaN  \n",
       "2      Dry                 Daylight      NaN         0            NaN  \n",
       "3      Dry                 Daylight      NaN         N            NaN  \n",
       "4      Wet                 Daylight      NaN         0            NaN  "
      ]
     },
     "execution_count": 4,
     "metadata": {},
     "output_type": "execute_result"
    }
   ],
   "source": [
    "\n",
    "colData.head()"
   ]
  },
  {
   "cell_type": "code",
   "execution_count": 5,
   "metadata": {},
   "outputs": [
    {
     "name": "stdout",
     "output_type": "stream",
     "text": [
      "SEVERITYCODE\n",
      "1    136485\n",
      "2     58188\n",
      "Name: SEVERITYCODE, dtype: int64\n",
      "\n",
      "ADDRTYPE\n",
      "Block           126926\n",
      "Intersection     65070\n",
      "Alley              751\n",
      "Name: ADDRTYPE, dtype: int64\n",
      "\n",
      "COLLISIONTYPE\n",
      "Parked Car    47987\n",
      "Angles        34674\n",
      "Rear Ended    34090\n",
      "Other         23703\n",
      "Sideswipe     18609\n",
      "Left Turn     13703\n",
      "Pedestrian     6608\n",
      "Cycles         5415\n",
      "Right Turn     2956\n",
      "Head On        2024\n",
      "Name: COLLISIONTYPE, dtype: int64\n",
      "\n",
      "JUNCTIONTYPE\n",
      "Mid-Block (not related to intersection)              89800\n",
      "At Intersection (intersection related)               62810\n",
      "Mid-Block (but intersection related)                 22790\n",
      "Driveway Junction                                    10671\n",
      "At Intersection (but not related to intersection)     2098\n",
      "Ramp Junction                                          166\n",
      "Unknown                                                  9\n",
      "Name: JUNCTIONTYPE, dtype: int64\n",
      "\n",
      "WEATHER\n",
      "Clear                       111135\n",
      "Raining                      33145\n",
      "Overcast                     27714\n",
      "Unknown                      15091\n",
      "Snowing                        907\n",
      "Other                          832\n",
      "Fog/Smog/Smoke                 569\n",
      "Sleet/Hail/Freezing Rain       113\n",
      "Blowing Sand/Dirt               56\n",
      "Severe Crosswind                25\n",
      "Partly Cloudy                    5\n",
      "Name: WEATHER, dtype: int64\n",
      "\n",
      "ROADCOND\n",
      "Dry               124510\n",
      "Wet                47474\n",
      "Unknown            15078\n",
      "Ice                 1209\n",
      "Snow/Slush          1004\n",
      "Other                132\n",
      "Standing Water       115\n",
      "Sand/Mud/Dirt         75\n",
      "Oil                   64\n",
      "Name: ROADCOND, dtype: int64\n",
      "\n",
      "LIGHTCOND\n",
      "Daylight                    116137\n",
      "Dark - Street Lights On      48507\n",
      "Unknown                      13473\n",
      "Dusk                          5902\n",
      "Dawn                          2502\n",
      "Dark - No Street Lights       1537\n",
      "Dark - Street Lights Off      1199\n",
      "Other                          235\n",
      "Dark - Unknown Lighting         11\n",
      "Name: LIGHTCOND, dtype: int64\n",
      "\n",
      "SPEEDING\n",
      "Y    9333\n",
      "Name: SPEEDING, dtype: int64\n",
      "\n",
      "UNDERINFL\n",
      "N    100274\n",
      "0     80394\n",
      "Y      5126\n",
      "1      3995\n",
      "Name: UNDERINFL, dtype: int64\n",
      "\n",
      "INATTENTIONIND\n",
      "Y    29805\n",
      "Name: INATTENTIONIND, dtype: int64\n",
      "\n"
     ]
    }
   ],
   "source": [
    "# Perform value counts in different columns\n",
    "\n",
    "def list_count(columns, df):\n",
    "    for col in columns:\n",
    "        print(col)\n",
    "        print(df[col].value_counts())\n",
    "        print()\n",
    "\n",
    "data_columns = ['SEVERITYCODE','ADDRTYPE', 'COLLISIONTYPE', 'JUNCTIONTYPE', 'WEATHER', \n",
    " 'ROADCOND','LIGHTCOND', 'SPEEDING', 'UNDERINFL', 'INATTENTIONIND']\n",
    "\n",
    "#Use value_counts() method in each column\n",
    "list_count(data_columns, colData)"
   ]
  },
  {
   "cell_type": "code",
   "execution_count": 6,
   "metadata": {},
   "outputs": [],
   "source": [
    "# Some of the categories are not relevant or doesn't provide enough information, such as 'Unknown' or 'Other'. We should drop this kind of entries."
   ]
  },
  {
   "cell_type": "code",
   "execution_count": 7,
   "metadata": {},
   "outputs": [],
   "source": [
    "filterCond = (colData.LIGHTCOND == 'Other') | (colData.LIGHTCOND == 'Unknown') | \\\n",
    "                      (colData.LIGHTCOND == 'Dark - Unknown Lighting') |\\\n",
    "                      (colData.ROADCOND == 'Other') | (colData.ROADCOND == 'Unknown') | \\\n",
    "                      (colData.WEATHER == 'Other') | (colData.WEATHER == 'Unknown') | \\\n",
    "                      (colData.JUNCTIONTYPE == 'Other') | (colData.JUNCTIONTYPE == 'Unknown') | \\\n",
    "                      (colData.COLLISIONTYPE == 'Other')\n",
    "colData = colData.drop(colData[filterCond].index)"
   ]
  },
  {
   "cell_type": "code",
   "execution_count": 8,
   "metadata": {},
   "outputs": [],
   "source": [
    "# Group information to uniform categories.\n",
    "colData[\"LIGHTCOND\"] = colData[\"LIGHTCOND\"].replace(\"Dark - Street Lights Off\", \"Dark - No Street Lights\")\n",
    "colData[\"UNDERINFL\"] = colData[\"UNDERINFL\"].replace(\"N\", 0)\n",
    "colData[\"UNDERINFL\"] = colData[\"UNDERINFL\"].replace(\"0\", 0)\n",
    "colData[\"UNDERINFL\"] = colData[\"UNDERINFL\"].replace(\"1\", 1)\n",
    "colData[\"UNDERINFL\"] = colData[\"UNDERINFL\"].replace(\"Y\", 1)\n",
    "colData[\"INATTENTIONIND\"] = colData[\"INATTENTIONIND\"].replace(\"Y\", 1)\n",
    "colData[\"SPEEDING\"] = colData[\"SPEEDING\"].replace(\"Y\", 1)"
   ]
  },
  {
   "cell_type": "code",
   "execution_count": 9,
   "metadata": {},
   "outputs": [
    {
     "data": {
      "text/plain": [
       "SEVERITYCODE         0\n",
       "X                 2609\n",
       "Y                 2609\n",
       "ADDRTYPE           686\n",
       "COLLISIONTYPE     4898\n",
       "PERSONCOUNT          0\n",
       "VEHCOUNT             0\n",
       "JUNCTIONTYPE      2143\n",
       "WEATHER           5009\n",
       "ROADCOND          4977\n",
       "LIGHTCOND         5081\n",
       "SPEEDING             0\n",
       "UNDERINFL            0\n",
       "INATTENTIONIND       0\n",
       "dtype: int64"
      ]
     },
     "execution_count": 9,
     "metadata": {},
     "output_type": "execute_result"
    }
   ],
   "source": [
    "# Assume that if the report does not explicitly indicates an accident which involved driving under a alcohol/substance, then the opposite is true. We will treat the following columns as true only if the field is filled.\n",
    "\n",
    "colData['UNDERINFL'] = colData['UNDERINFL'].fillna(0)\n",
    "colData['INATTENTIONIND'] = colData['INATTENTIONIND'].fillna(0)\n",
    "colData['SPEEDING'] = colData['SPEEDING'].fillna(0)\n",
    "\n",
    "# Check the columns which has NaN values\n",
    "colData.isna().sum()"
   ]
  },
  {
   "cell_type": "code",
   "execution_count": 10,
   "metadata": {},
   "outputs": [
    {
     "name": "stdout",
     "output_type": "stream",
     "text": [
      "<class 'pandas.core.frame.DataFrame'>\n",
      "Int64Index: 143741 entries, 0 to 194672\n",
      "Data columns (total 14 columns):\n",
      " #   Column          Non-Null Count   Dtype  \n",
      "---  ------          --------------   -----  \n",
      " 0   SEVERITYCODE    143741 non-null  int64  \n",
      " 1   X               143741 non-null  float64\n",
      " 2   Y               143741 non-null  float64\n",
      " 3   ADDRTYPE        143741 non-null  object \n",
      " 4   COLLISIONTYPE   143741 non-null  object \n",
      " 5   PERSONCOUNT     143741 non-null  int64  \n",
      " 6   VEHCOUNT        143741 non-null  int64  \n",
      " 7   JUNCTIONTYPE    143741 non-null  object \n",
      " 8   WEATHER         143741 non-null  object \n",
      " 9   ROADCOND        143741 non-null  object \n",
      " 10  LIGHTCOND       143741 non-null  object \n",
      " 11  SPEEDING        143741 non-null  float64\n",
      " 12  UNDERINFL       143741 non-null  float64\n",
      " 13  INATTENTIONIND  143741 non-null  float64\n",
      "dtypes: float64(5), int64(3), object(6)\n",
      "memory usage: 16.4+ MB\n"
     ]
    }
   ],
   "source": [
    "# Not all the entries or observables are complete, some of them miss relevant information which is needed to train the model.\n",
    "colData.dropna(inplace=True)\n",
    "colData.info()"
   ]
  },
  {
   "cell_type": "code",
   "execution_count": 11,
   "metadata": {},
   "outputs": [],
   "source": [
    "# Now that the data is cleaned. We have a total of 143741 observables. However, there's still some work to do before analyzing and training the model"
   ]
  },
  {
   "cell_type": "code",
   "execution_count": 12,
   "metadata": {},
   "outputs": [
    {
     "data": {
      "text/plain": [
       "<AxesSubplot:xlabel='SEVERITYCODE', ylabel='count'>"
      ]
     },
     "execution_count": 12,
     "metadata": {},
     "output_type": "execute_result"
    },
    {
     "data": {
      "image/png": "[encoded data removed]",
      "text/plain": [
       "<Figure size 432x288 with 1 Axes>"
      ]
     },
     "metadata": {
      "needs_background": "light"
     },
     "output_type": "display_data"
    }
   ],
   "source": [
    "import seaborn as sns\n",
    "import matplotlib.pyplot as plt\n",
    "\n",
    "sns.countplot(x=\"SEVERITYCODE\", data=colData)\n",
    "# uncomment if youu want to save the plots in HDD\n",
    "# plt.savefig('fig/severity_count.png',dpi=300, bbox_inches = \"tight\")"
   ]
  },
  {
   "cell_type": "code",
   "execution_count": 13,
   "metadata": {},
   "outputs": [
    {
     "name": "stdout",
     "output_type": "stream",
     "text": [
      "Requirement already up-to-date: imbalanced-learn in /home/jupyterlab/conda/envs/python/lib/python3.6/site-packages (0.7.0)\n",
      "Requirement already satisfied, skipping upgrade: numpy>=1.13.3 in /home/jupyterlab/conda/envs/python/lib/python3.6/site-packages (from imbalanced-learn) (1.19.1)\n",
      "Requirement already satisfied, skipping upgrade: scikit-learn>=0.23 in /home/jupyterlab/conda/envs/python/lib/python3.6/site-packages (from imbalanced-learn) (0.23.2)\n",
      "Requirement already satisfied, skipping upgrade: joblib>=0.11 in /home/jupyterlab/conda/envs/python/lib/python3.6/site-packages (from imbalanced-learn) (0.17.0)\n",
      "Requirement already satisfied, skipping upgrade: scipy>=0.19.1 in /home/jupyterlab/conda/envs/python/lib/python3.6/site-packages (from imbalanced-learn) (1.5.2)\n",
      "Requirement already satisfied, skipping upgrade: threadpoolctl>=2.0.0 in /home/jupyterlab/conda/envs/python/lib/python3.6/site-packages (from scikit-learn>=0.23->imbalanced-learn) (2.1.0)\n",
      "Note: you may need to restart the kernel to use updated packages.\n"
     ]
    }
   ],
   "source": [
    "pip install -U imbalanced-learn"
   ]
  },
  {
   "cell_type": "code",
   "execution_count": 14,
   "metadata": {},
   "outputs": [
    {
     "name": "stdout",
     "output_type": "stream",
     "text": [
      "Collecting package metadata (current_repodata.json): done\n",
      "Solving environment: done\n",
      "\n",
      "## Package Plan ##\n",
      "\n",
      "  environment location: /home/jupyterlab/conda/envs/python\n",
      "\n",
      "  added / updated specs:\n",
      "    - imbalanced-learn\n",
      "\n",
      "\n",
      "The following packages will be downloaded:\n",
      "\n",
      "    package                    |            build\n",
      "    ---------------------------|-----------------\n",
      "    blas-1.0                   |         openblas          46 KB\n",
      "    ca-certificates-2020.7.22  |                0         125 KB\n",
      "    certifi-2020.6.20          |           py36_0         156 KB\n",
      "    imbalanced-learn-0.2.1     |           py36_0         117 KB  glemaitre\n",
      "    joblib-0.17.0              |             py_0         206 KB\n",
      "    scikit-learn-0.23.2        |   py36h0573a6f_0         5.0 MB\n",
      "    scipy-1.5.2                |   py36habc2bb6_0        14.3 MB\n",
      "    threadpoolctl-2.1.0        |     pyh5ca1d4c_0          17 KB\n",
      "    ------------------------------------------------------------\n",
      "                                           Total:        20.0 MB\n",
      "\n",
      "The following NEW packages will be INSTALLED:\n",
      "\n",
      "  blas               pkgs/main/linux-64::blas-1.0-openblas\n",
      "  imbalanced-learn   glemaitre/linux-64::imbalanced-learn-0.2.1-py36_0\n",
      "  joblib             pkgs/main/noarch::joblib-0.17.0-py_0\n",
      "  scikit-learn       pkgs/main/linux-64::scikit-learn-0.23.2-py36h0573a6f_0\n",
      "  scipy              pkgs/main/linux-64::scipy-1.5.2-py36habc2bb6_0\n",
      "  threadpoolctl      pkgs/main/noarch::threadpoolctl-2.1.0-pyh5ca1d4c_0\n",
      "\n",
      "The following packages will be UPDATED:\n",
      "\n",
      "  ca-certificates    conda-forge::ca-certificates-2020.6.2~ --> pkgs/main::ca-certificates-2020.7.22-0\n",
      "\n",
      "The following packages will be SUPERSEDED by a higher-priority channel:\n",
      "\n",
      "  certifi            conda-forge::certifi-2020.6.20-py36h9~ --> pkgs/main::certifi-2020.6.20-py36_0\n",
      "\n",
      "\n",
      "\n",
      "Downloading and Extracting Packages\n",
      "scikit-learn-0.23.2  | 5.0 MB    | ##################################### | 100% \n",
      "joblib-0.17.0        | 206 KB    | ##################################### | 100% \n",
      "blas-1.0             | 46 KB     | ##################################### | 100% \n",
      "scipy-1.5.2          | 14.3 MB   | ##################################### | 100% \n",
      "imbalanced-learn-0.2 | 117 KB    | ##################################### | 100% \n",
      "certifi-2020.6.20    | 156 KB    | ##################################### | 100% \n",
      "ca-certificates-2020 | 125 KB    | ##################################### | 100% \n",
      "threadpoolctl-2.1.0  | 17 KB     | ##################################### | 100% \n",
      "Preparing transaction: done\n",
      "Verifying transaction: done\n",
      "Executing transaction: done\n",
      "\n",
      "Note: you may need to restart the kernel to use updated packages.\n"
     ]
    }
   ],
   "source": [
    "conda install -c glemaitre imbalanced-learn"
   ]
  },
  {
   "cell_type": "code",
   "execution_count": 15,
   "metadata": {},
   "outputs": [
    {
     "name": "stdout",
     "output_type": "stream",
     "text": [
      "Collecting django-cors-headers\n",
      "  Downloading https://files.pythonhosted.org/packages/51/99/41898d5eddb68bc5545c08f5315e00d6036cc6f1aba5fd824042dd1b04ea/django_cors_headers-3.5.0-py3-none-any.whl\n",
      "Collecting Django>=2.2 (from django-cors-headers)\n",
      "\u001b[?25l  Downloading https://files.pythonhosted.org/packages/50/22/4c91847beceadbb54b5a518909ed5000bb1777168c7d6b087e8f79e5e05b/Django-3.1.2-py3-none-any.whl (7.8MB)\n",
      "\u001b[K     |████████████████████████████████| 7.8MB 6.1MB/s eta 0:00:01\n",
      "\u001b[?25hRequirement already satisfied, skipping upgrade: pytz in /home/jupyterlab/conda/envs/python/lib/python3.6/site-packages (from Django>=2.2->django-cors-headers) (2020.1)\n",
      "Collecting asgiref~=3.2.10 (from Django>=2.2->django-cors-headers)\n",
      "  Downloading https://files.pythonhosted.org/packages/d5/eb/64725b25f991010307fd18a9e0c1f0e6dff2f03622fc4bcbcdb2244f60d6/asgiref-3.2.10-py3-none-any.whl\n",
      "Requirement already satisfied, skipping upgrade: sqlparse>=0.2.2 in /home/jupyterlab/conda/envs/python/lib/python3.6/site-packages (from Django>=2.2->django-cors-headers) (0.3.1)\n",
      "Installing collected packages: asgiref, Django, django-cors-headers\n",
      "Successfully installed Django-3.1.2 asgiref-3.2.10 django-cors-headers-3.5.0\n",
      "Note: you may need to restart the kernel to use updated packages.\n"
     ]
    }
   ],
   "source": [
    "pip install --upgrade django-cors-headers"
   ]
  },
  {
   "cell_type": "code",
   "execution_count": 16,
   "metadata": {},
   "outputs": [
    {
     "name": "stdout",
     "output_type": "stream",
     "text": [
      "Collecting djangorestframework\n",
      "\u001b[?25l  Downloading https://files.pythonhosted.org/packages/a7/97/a2a6e4a8d909caa71a2acefead18bba2101dba0668c8b8d913ae3c4ee329/djangorestframework-3.12.1-py3-none-any.whl (913kB)\n",
      "\u001b[K     |████████████████████████████████| 921kB 6.1MB/s eta 0:00:01\n",
      "\u001b[?25hRequirement already satisfied, skipping upgrade: django>=2.2 in /home/jupyterlab/conda/envs/python/lib/python3.6/site-packages (from djangorestframework) (3.1.2)\n",
      "Requirement already satisfied, skipping upgrade: pytz in /home/jupyterlab/conda/envs/python/lib/python3.6/site-packages (from django>=2.2->djangorestframework) (2020.1)\n",
      "Requirement already satisfied, skipping upgrade: asgiref~=3.2.10 in /home/jupyterlab/conda/envs/python/lib/python3.6/site-packages (from django>=2.2->djangorestframework) (3.2.10)\n",
      "Requirement already satisfied, skipping upgrade: sqlparse>=0.2.2 in /home/jupyterlab/conda/envs/python/lib/python3.6/site-packages (from django>=2.2->djangorestframework) (0.3.1)\n",
      "Installing collected packages: djangorestframework\n",
      "Successfully installed djangorestframework-3.12.1\n",
      "Note: you may need to restart the kernel to use updated packages.\n"
     ]
    }
   ],
   "source": [
    "pip install --upgrade djangorestframework"
   ]
  },
  {
   "cell_type": "code",
   "execution_count": 17,
   "metadata": {},
   "outputs": [
    {
     "name": "stdout",
     "output_type": "stream",
     "text": [
      "Collecting drf_yasg\n",
      "\u001b[?25l  Downloading https://files.pythonhosted.org/packages/18/de/729c403c2ccfef3680790c2cb5460b7bdf93457586f09d5c15a9e5da450f/drf_yasg-1.17.1-py2.py3-none-any.whl (1.1MB)\n",
      "\u001b[K     |████████████████████████████████| 1.1MB 8.4MB/s eta 0:00:01\n",
      "\u001b[?25hCollecting packaging (from drf_yasg)\n",
      "  Using cached https://files.pythonhosted.org/packages/46/19/c5ab91b1b05cfe63cccd5cfc971db9214c6dd6ced54e33c30d5af1d2bc43/packaging-20.4-py2.py3-none-any.whl\n",
      "Collecting coreapi>=2.3.3 (from drf_yasg)\n",
      "  Downloading https://files.pythonhosted.org/packages/fc/3a/9dedaad22962770edd334222f2b3c3e7ad5e1c8cab1d6a7992c30329e2e5/coreapi-2.3.3-py2.py3-none-any.whl\n",
      "Collecting uritemplate>=3.0.0 (from drf_yasg)\n",
      "  Downloading https://files.pythonhosted.org/packages/bf/0c/60d82c077998feb631608dca3cc1fe19ac074e772bf0c24cf409b977b815/uritemplate-3.0.1-py2.py3-none-any.whl\n",
      "Collecting ruamel.yaml>=0.15.34 (from drf_yasg)\n",
      "\u001b[?25l  Downloading https://files.pythonhosted.org/packages/7e/39/186f14f3836ac5d2a6a042c8de69988770e8b9abb537610edc429e4914aa/ruamel.yaml-0.16.12-py2.py3-none-any.whl (111kB)\n",
      "\u001b[K     |████████████████████████████████| 112kB 34.8MB/s eta 0:00:01\n",
      "\u001b[?25hCollecting inflection>=0.3.1 (from drf_yasg)\n",
      "  Downloading https://files.pythonhosted.org/packages/59/91/aa6bde563e0085a02a435aa99b49ef75b0a4b062635e606dab23ce18d720/inflection-0.5.1-py2.py3-none-any.whl\n",
      "Requirement already satisfied, skipping upgrade: six>=1.10.0 in /home/jupyterlab/conda/envs/python/lib/python3.6/site-packages (from drf_yasg) (1.15.0)\n",
      "Requirement already satisfied, skipping upgrade: Django>=1.11.7 in /home/jupyterlab/conda/envs/python/lib/python3.6/site-packages (from drf_yasg) (3.1.2)\n",
      "Collecting coreschema>=0.0.4 (from drf_yasg)\n",
      "  Downloading https://files.pythonhosted.org/packages/93/08/1d105a70104e078718421e6c555b8b293259e7fc92f7e9a04869947f198f/coreschema-0.0.4.tar.gz\n",
      "Requirement already satisfied, skipping upgrade: djangorestframework>=3.8 in /home/jupyterlab/conda/envs/python/lib/python3.6/site-packages (from drf_yasg) (3.12.1)\n",
      "Requirement already satisfied, skipping upgrade: pyparsing>=2.0.2 in /home/jupyterlab/conda/envs/python/lib/python3.6/site-packages (from packaging->drf_yasg) (2.4.7)\n",
      "Collecting itypes (from coreapi>=2.3.3->drf_yasg)\n",
      "  Downloading https://files.pythonhosted.org/packages/3f/bb/3bd99c7cd34d4a123b2903e16da364f6d2078b1c3a3530a8ad105c668104/itypes-1.2.0-py2.py3-none-any.whl\n",
      "Requirement already satisfied, skipping upgrade: requests in /home/jupyterlab/conda/envs/python/lib/python3.6/site-packages (from coreapi>=2.3.3->drf_yasg) (2.24.0)\n",
      "Collecting ruamel.yaml.clib>=0.1.2; platform_python_implementation == \"CPython\" and python_version < \"3.9\" (from ruamel.yaml>=0.15.34->drf_yasg)\n",
      "\u001b[?25l  Downloading https://files.pythonhosted.org/packages/88/ff/ec25dc01ef04232a9e68ff18492e37dfa01f1f58172e702ad4f38536d41b/ruamel.yaml.clib-0.2.2-cp36-cp36m-manylinux1_x86_64.whl (549kB)\n",
      "\u001b[K     |████████████████████████████████| 552kB 9.0MB/s eta 0:00:01\n",
      "\u001b[?25hRequirement already satisfied, skipping upgrade: pytz in /home/jupyterlab/conda/envs/python/lib/python3.6/site-packages (from Django>=1.11.7->drf_yasg) (2020.1)\n",
      "Requirement already satisfied, skipping upgrade: asgiref~=3.2.10 in /home/jupyterlab/conda/envs/python/lib/python3.6/site-packages (from Django>=1.11.7->drf_yasg) (3.2.10)\n",
      "Requirement already satisfied, skipping upgrade: sqlparse>=0.2.2 in /home/jupyterlab/conda/envs/python/lib/python3.6/site-packages (from Django>=1.11.7->drf_yasg) (0.3.1)\n",
      "Requirement already satisfied, skipping upgrade: jinja2 in /home/jupyterlab/conda/envs/python/lib/python3.6/site-packages (from coreschema>=0.0.4->drf_yasg) (2.11.2)\n",
      "Requirement already satisfied, skipping upgrade: idna<3,>=2.5 in /home/jupyterlab/conda/envs/python/lib/python3.6/site-packages (from requests->coreapi>=2.3.3->drf_yasg) (2.10)\n",
      "Requirement already satisfied, skipping upgrade: certifi>=2017.4.17 in /home/jupyterlab/conda/envs/python/lib/python3.6/site-packages (from requests->coreapi>=2.3.3->drf_yasg) (2020.6.20)\n",
      "Requirement already satisfied, skipping upgrade: urllib3!=1.25.0,!=1.25.1,<1.26,>=1.21.1 in /home/jupyterlab/conda/envs/python/lib/python3.6/site-packages (from requests->coreapi>=2.3.3->drf_yasg) (1.25.10)\n",
      "Requirement already satisfied, skipping upgrade: chardet<4,>=3.0.2 in /home/jupyterlab/conda/envs/python/lib/python3.6/site-packages (from requests->coreapi>=2.3.3->drf_yasg) (3.0.4)\n",
      "Requirement already satisfied, skipping upgrade: MarkupSafe>=0.23 in /home/jupyterlab/conda/envs/python/lib/python3.6/site-packages (from jinja2->coreschema>=0.0.4->drf_yasg) (1.1.1)\n",
      "Building wheels for collected packages: coreschema\n",
      "  Building wheel for coreschema (setup.py) ... \u001b[?25ldone\n",
      "\u001b[?25h  Stored in directory: /home/jupyterlab/.cache/pip/wheels/10/7b/ba/04fcd6b33e6123ca11a5f5ab56decb1a2d87ced028377a1377\n",
      "Successfully built coreschema\n",
      "Installing collected packages: packaging, uritemplate, itypes, coreschema, coreapi, ruamel.yaml.clib, ruamel.yaml, inflection, drf-yasg\n",
      "Successfully installed coreapi-2.3.3 coreschema-0.0.4 drf-yasg-1.17.1 inflection-0.5.1 itypes-1.2.0 packaging-20.4 ruamel.yaml-0.16.12 ruamel.yaml.clib-0.2.2 uritemplate-3.0.1\n",
      "Note: you may need to restart the kernel to use updated packages.\n"
     ]
    }
   ],
   "source": [
    "pip install --upgrade drf_yasg"
   ]
  },
  {
   "cell_type": "code",
   "execution_count": 18,
   "metadata": {},
   "outputs": [
    {
     "name": "stdout",
     "output_type": "stream",
     "text": [
      "Collecting git+https://github.com/scikit-learn-contrib/imbalanced-learn.git\n",
      "  Cloning https://github.com/scikit-learn-contrib/imbalanced-learn.git to /tmp/pip-req-build-htbb6fwm\n",
      "  Running command git clone -q https://github.com/scikit-learn-contrib/imbalanced-learn.git /tmp/pip-req-build-htbb6fwm\n",
      "Requirement already satisfied, skipping upgrade: numpy>=1.13.3 in /home/jupyterlab/conda/envs/python/lib/python3.6/site-packages (from imbalanced-learn==0.7.0) (1.19.1)\n",
      "Requirement already satisfied, skipping upgrade: scipy>=0.19.1 in /home/jupyterlab/conda/envs/python/lib/python3.6/site-packages (from imbalanced-learn==0.7.0) (1.5.2)\n",
      "Requirement already satisfied, skipping upgrade: scikit-learn>=0.23 in /home/jupyterlab/conda/envs/python/lib/python3.6/site-packages (from imbalanced-learn==0.7.0) (0.23.2)\n",
      "Requirement already satisfied, skipping upgrade: joblib>=0.11 in /home/jupyterlab/conda/envs/python/lib/python3.6/site-packages (from imbalanced-learn==0.7.0) (0.17.0)\n",
      "Requirement already satisfied, skipping upgrade: threadpoolctl>=2.0.0 in /home/jupyterlab/conda/envs/python/lib/python3.6/site-packages (from scikit-learn>=0.23->imbalanced-learn==0.7.0) (2.1.0)\n",
      "Building wheels for collected packages: imbalanced-learn\n",
      "  Building wheel for imbalanced-learn (setup.py) ... \u001b[?25ldone\n",
      "\u001b[?25h  Stored in directory: /tmp/pip-ephem-wheel-cache-phev8u21/wheels/6c/07/cf/38cb9b7cc9e6a0ac7648a80ec192b6f2d863405fb0049ac0ff\n",
      "Successfully built imbalanced-learn\n",
      "Installing collected packages: imbalanced-learn\n",
      "  Found existing installation: imbalanced-learn 0.7.0\n",
      "    Uninstalling imbalanced-learn-0.7.0:\n",
      "      Successfully uninstalled imbalanced-learn-0.7.0\n",
      "Successfully installed imbalanced-learn-0.7.0\n",
      "Note: you may need to restart the kernel to use updated packages.\n"
     ]
    }
   ],
   "source": [
    "pip install -U git+https://github.com/scikit-learn-contrib/imbalanced-learn.git"
   ]
  },
  {
   "cell_type": "code",
   "execution_count": 19,
   "metadata": {},
   "outputs": [
    {
     "name": "stdout",
     "output_type": "stream",
     "text": [
      "Requirement already up-to-date: imbalanced-learn in /home/jupyterlab/conda/envs/python/lib/python3.6/site-packages (0.7.0)\n",
      "Requirement already satisfied, skipping upgrade: numpy>=1.13.3 in /home/jupyterlab/conda/envs/python/lib/python3.6/site-packages (from imbalanced-learn) (1.19.1)\n",
      "Requirement already satisfied, skipping upgrade: scikit-learn>=0.23 in /home/jupyterlab/conda/envs/python/lib/python3.6/site-packages (from imbalanced-learn) (0.23.2)\n",
      "Requirement already satisfied, skipping upgrade: joblib>=0.11 in /home/jupyterlab/conda/envs/python/lib/python3.6/site-packages (from imbalanced-learn) (0.17.0)\n",
      "Requirement already satisfied, skipping upgrade: scipy>=0.19.1 in /home/jupyterlab/conda/envs/python/lib/python3.6/site-packages (from imbalanced-learn) (1.5.2)\n",
      "Requirement already satisfied, skipping upgrade: threadpoolctl>=2.0.0 in /home/jupyterlab/conda/envs/python/lib/python3.6/site-packages (from scikit-learn>=0.23->imbalanced-learn) (2.1.0)\n",
      "Note: you may need to restart the kernel to use updated packages.\n"
     ]
    }
   ],
   "source": [
    "pip install -U imbalanced-learn"
   ]
  },
  {
   "cell_type": "code",
   "execution_count": 20,
   "metadata": {},
   "outputs": [
    {
     "name": "stdout",
     "output_type": "stream",
     "text": [
      "Collecting package metadata (current_repodata.json): done\n",
      "Solving environment: done\n",
      "\n",
      "## Package Plan ##\n",
      "\n",
      "  environment location: /home/jupyterlab/conda/envs/python\n",
      "\n",
      "  added / updated specs:\n",
      "    - imbalanced-learn\n",
      "\n",
      "\n",
      "The following packages will be downloaded:\n",
      "\n",
      "    package                    |            build\n",
      "    ---------------------------|-----------------\n",
      "    certifi-2020.6.20          |   py36h9880bd3_2         151 KB  conda-forge\n",
      "    imbalanced-learn-0.7.0     |             py_1          97 KB  conda-forge\n",
      "    ------------------------------------------------------------\n",
      "                                           Total:         248 KB\n",
      "\n",
      "The following packages will be UPDATED:\n",
      "\n",
      "  certifi               pkgs/main::certifi-2020.6.20-py36_0 --> conda-forge::certifi-2020.6.20-py36h9880bd3_2\n",
      "  imbalanced-learn   glemaitre/linux-64::imbalanced-learn-~ --> conda-forge/noarch::imbalanced-learn-0.7.0-py_1\n",
      "\n",
      "The following packages will be SUPERSEDED by a higher-priority channel:\n",
      "\n",
      "  ca-certificates    pkgs/main::ca-certificates-2020.7.22-0 --> conda-forge::ca-certificates-2020.6.20-hecda079_0\n",
      "\n",
      "\n",
      "\n",
      "Downloading and Extracting Packages\n",
      "certifi-2020.6.20    | 151 KB    | ##################################### | 100% \n",
      "imbalanced-learn-0.7 | 97 KB     | ##################################### | 100% \n",
      "Preparing transaction: done\n",
      "Verifying transaction: done\n",
      "Executing transaction: done\n",
      "\n",
      "Note: you may need to restart the kernel to use updated packages.\n"
     ]
    }
   ],
   "source": [
    "conda install -c conda-forge imbalanced-learn"
   ]
  },
  {
   "cell_type": "code",
   "execution_count": 21,
   "metadata": {},
   "outputs": [
    {
     "name": "stdout",
     "output_type": "stream",
     "text": [
      "Not severe collitions:  48923\n",
      "    Severe collitions:  48923\n"
     ]
    },
    {
     "data": {
      "text/plain": [
       "<AxesSubplot:xlabel='severity', ylabel='count'>"
      ]
     },
     "execution_count": 21,
     "metadata": {},
     "output_type": "execute_result"
    },
    {
     "data": {
      "image/png": "[encoded data removed]",
      "text/plain": [
       "<Figure size 432x288 with 1 Axes>"
      ]
     },
     "metadata": {
      "needs_background": "light"
     },
     "output_type": "display_data"
    }
   ],
   "source": [
    "from imblearn.under_sampling import RandomUnderSampler\n",
    "\n",
    "X = colData[['X', 'Y', 'ADDRTYPE', 'COLLISIONTYPE', 'PERSONCOUNT',\n",
    "       'VEHCOUNT', 'JUNCTIONTYPE', 'WEATHER', 'ROADCOND', 'LIGHTCOND',\n",
    "       'SPEEDING', 'UNDERINFL', 'INATTENTIONIND']]\n",
    "y = colData[['SEVERITYCODE']]\n",
    "\n",
    "rus = RandomUnderSampler(random_state=0)\n",
    "X_resampled, y_resampled = rus.fit_resample(X, y)\n",
    "colData = X_resampled\n",
    "colData['severity'] = y_resampled\n",
    "\n",
    "severeCols = colData[colData.severity == 2]\n",
    "notSevereCols = colData[colData.severity == 1]\n",
    "\n",
    "print(\"Not severe collitions: \", len(severeCols))\n",
    "print(\"    Severe collitions: \", len(notSevereCols))\n",
    "\n",
    "sns.countplot(x=\"severity\", data=colData)\n",
    "# uncomment if youu want to save the plots in HDD\n",
    "# plt.savefig('fig/severity_count_after.png',dpi=300, bbox_inches = \"tight\")"
   ]
  },
  {
   "cell_type": "code",
   "execution_count": 22,
   "metadata": {},
   "outputs": [
    {
     "data": {
      "text/plain": [
       "<AxesSubplot:xlabel='count', ylabel='INATTENTIONIND'>"
      ]
     },
     "execution_count": 22,
     "metadata": {},
     "output_type": "execute_result"
    },
    {
     "data": {
      "image/png": "[encoded data removed]",
      "text/plain": [
       "<Figure size 1728x864 with 9 Axes>"
      ]
     },
     "metadata": {
      "needs_background": "light"
     },
     "output_type": "display_data"
    }
   ],
   "source": [
    "# Now that the data is balanced, we can take a visual look to the variables to see if they are relevant to the model training.\n",
    "ig, axs = plt.subplots(ncols=3, nrows=3, figsize=(24,12))\n",
    "plt.subplots_adjust(hspace = 0.8, wspace=0.8)\n",
    "sns.countplot(y=\"ADDRTYPE\", hue=\"severity\", data=colData, ax=axs[0, 0])\n",
    "sns.countplot(y=\"COLLISIONTYPE\", hue=\"severity\", data=colData, ax=axs[1, 0])\n",
    "sns.countplot(y=\"JUNCTIONTYPE\", hue=\"severity\", data=colData, ax=axs[2, 0])\n",
    "sns.countplot(y=\"WEATHER\", hue=\"severity\", data=colData, ax=axs[0, 1])\n",
    "sns.countplot(y=\"ROADCOND\", hue=\"severity\", data=colData, ax=axs[1, 1])\n",
    "sns.countplot(y=\"LIGHTCOND\", hue=\"severity\", data=colData, ax=axs[2, 1])\n",
    "sns.countplot(y=\"SPEEDING\", hue=\"severity\", data=colData, ax=axs[0, 2])\n",
    "sns.countplot(y=\"UNDERINFL\", hue=\"severity\", data=colData, ax=axs[1, 2])\n",
    "sns.countplot(y=\"INATTENTIONIND\", hue=\"severity\", data=colData, ax=axs[2, 2])"
   ]
  },
  {
   "cell_type": "code",
   "execution_count": 23,
   "metadata": {},
   "outputs": [
    {
     "name": "stdout",
     "output_type": "stream",
     "text": [
      "Feature ADDRTYPE: 0.023780\n",
      "Feature COLLISIONTYPE: 0.125448\n",
      "Feature JUNCTIONTYPE: 0.025080\n",
      "Feature WEATHER: 0.004132\n",
      "Feature ROADCOND: 0.000000\n",
      "Feature LIGHTCOND: 0.003804\n",
      "Feature SPEEDING: 0.001552\n",
      "Feature UNDERINFL: 0.000000\n",
      "Feature INATTENTIONIND: 0.000000\n"
     ]
    },
    {
     "data": {
      "text/plain": [
       "<AxesSubplot:>"
      ]
     },
     "execution_count": 23,
     "metadata": {},
     "output_type": "execute_result"
    },
    {
     "data": {
      "image/png": "[encoded data removed]",
      "text/plain": [
       "<Figure size 432x288 with 1 Axes>"
      ]
     },
     "metadata": {
      "needs_background": "light"
     },
     "output_type": "display_data"
    }
   ],
   "source": [
    "# example of mutual information feature selection for categorical data\n",
    "from sklearn.model_selection import train_test_split\n",
    "from sklearn.preprocessing import LabelEncoder\n",
    "from sklearn.preprocessing import OrdinalEncoder\n",
    "from sklearn.feature_selection import SelectKBest\n",
    "from sklearn.feature_selection import mutual_info_classif\n",
    "\n",
    "# prepare input data\n",
    "def prepare_inputs(X_train, X_test):\n",
    "    oe = OrdinalEncoder()\n",
    "    oe.fit(X_train)\n",
    "    X_train_enc = oe.transform(X_train)\n",
    "    X_test_enc = oe.transform(X_test)\n",
    "    return X_train_enc, X_test_enc\n",
    " \n",
    "# prepare target\n",
    "def prepare_targets(y_train, y_test):\n",
    "    le = LabelEncoder()\n",
    "    le.fit(y_train)\n",
    "    y_train_enc = le.transform(y_train)\n",
    "    y_test_enc = le.transform(y_test)\n",
    "    return y_train_enc, y_test_enc\n",
    " \n",
    "# feature selection\n",
    "def select_features(X_train, y_train, X_test):\n",
    "    fs = SelectKBest(score_func=mutual_info_classif, k='all')\n",
    "    fs.fit(X_train, y_train)\n",
    "    X_train_fs = fs.transform(X_train)\n",
    "    X_test_fs = fs.transform(X_test)\n",
    "    return X_train_fs, X_test_fs, fs\n",
    "\n",
    "def calc_entropy(X, y, n):\n",
    "    scores = []\n",
    "    result = np.zeros(len(X.columns))\n",
    "    \n",
    "    for i in range(n):\n",
    "        # split into train and test sets\n",
    "        X_train, X_test, y_train, y_test = train_test_split(X, y, test_size=0.33, random_state=1)\n",
    "        # prepare input data\n",
    "        X_train_enc, X_test_enc = prepare_inputs(X_train, X_test)\n",
    "        # prepare output data\n",
    "        y_train_enc, y_test_enc = prepare_targets(y_train, y_test)\n",
    "        # feature selection\n",
    "        X_train_fs, X_test_fs, fs = select_features(X_train_enc, y_train_enc, X_test_enc)\n",
    "        # what are scores for the features\n",
    "        result = fs.scores_ + result\n",
    "        \n",
    "    return result / n\n",
    "\n",
    "X = colData.drop(columns=['X','Y', 'PERSONCOUNT', 'VEHCOUNT', 'severity'])\n",
    "X = X.astype(str)\n",
    "y = colData['severity']\n",
    "\n",
    "# Change the iteration number if you want to average the results\n",
    "iterations = 1\n",
    "\n",
    "result = calc_entropy(X, y, iterations)\n",
    "\n",
    "for i in range(len(result)):\n",
    "    print('Feature %s: %f' % (X.columns[i], result[i]))\n",
    "# Plot the scores\n",
    "\n",
    "sns.barplot(y=X.columns, x=result)\n",
    "#plt.savefig('fig/feature_extraction.png',dpi=300, bbox_inches = \"tight\")"
   ]
  },
  {
   "cell_type": "code",
   "execution_count": 24,
   "metadata": {},
   "outputs": [
    {
     "data": {
      "text/plain": [
       "<AxesSubplot:xlabel='PERSONCOUNT', ylabel='count'>"
      ]
     },
     "execution_count": 24,
     "metadata": {},
     "output_type": "execute_result"
    },
    {
     "data": {
      "image/png": "[encoded data removed]",
      "text/plain": [
       "<Figure size 1080x432 with 2 Axes>"
      ]
     },
     "metadata": {
      "needs_background": "light"
     },
     "output_type": "display_data"
    }
   ],
   "source": [
    "fig, axs = plt.subplots(ncols=2, figsize=(15,6))\n",
    "sns.countplot(x=\"VEHCOUNT\", hue=\"severity\", data=colData, ax=axs[0])\n",
    "sns.countplot(x=\"PERSONCOUNT\", hue=\"severity\", data=colData, ax=axs[1])"
   ]
  },
  {
   "cell_type": "code",
   "execution_count": 25,
   "metadata": {},
   "outputs": [
    {
     "data": {
      "text/plain": [
       "<AxesSubplot:xlabel='count', ylabel='COLLISIONTYPE'>"
      ]
     },
     "execution_count": 25,
     "metadata": {},
     "output_type": "execute_result"
    },
    {
     "data": {
      "image/png": "[encoded data removed]",
      "text/plain": [
       "<Figure size 432x288 with 1 Axes>"
      ]
     },
     "metadata": {
      "needs_background": "light"
     },
     "output_type": "display_data"
    }
   ],
   "source": [
    "sns.countplot(y=\"COLLISIONTYPE\", hue=\"severity\", data=colData)\n",
    "#plt.savefig('fig/collisions.png',dpi=300, bbox_inches = \"tight\")"
   ]
  },
  {
   "cell_type": "code",
   "execution_count": 26,
   "metadata": {},
   "outputs": [
    {
     "data": {
      "text/plain": [
       "<AxesSubplot:xlabel='count', ylabel='JUNCTIONTYPE'>"
      ]
     },
     "execution_count": 26,
     "metadata": {},
     "output_type": "execute_result"
    },
    {
     "data": {
      "image/png": "[encoded data removed]",
      "text/plain": [
       "<Figure size 432x288 with 1 Axes>"
      ]
     },
     "metadata": {
      "needs_background": "light"
     },
     "output_type": "display_data"
    }
   ],
   "source": [
    "#plt.savefig('fig/junction.png',dpi=300, bbox_inches = \"tight\")\n",
    "sns.countplot(y=\"JUNCTIONTYPE\", hue=\"severity\", data=colData)\n",
    "#plt.savefig('fig/junction.png',dpi=300, bbox_inches = \"tight\")"
   ]
  },
  {
   "cell_type": "code",
   "execution_count": 27,
   "metadata": {},
   "outputs": [
    {
     "data": {
      "text/plain": [
       "<AxesSubplot:xlabel='count', ylabel='ROADCOND'>"
      ]
     },
     "execution_count": 27,
     "metadata": {},
     "output_type": "execute_result"
    },
    {
     "data": {
      "image/png": "[encoded data removed]",
      "text/plain": [
       "<Figure size 432x288 with 1 Axes>"
      ]
     },
     "metadata": {
      "needs_background": "light"
     },
     "output_type": "display_data"
    }
   ],
   "source": [
    "sns.countplot(y=\"LIGHTCOND\", hue=\"severity\", data=colData)\n",
    "#plt.savefig('fig/junction.png',dpi=300, bbox_inches = \"tight\")\n",
    "sns.countplot(y=\"WEATHER\", hue=\"severity\", data=colData)\n",
    "#plt.savefig('fig/junction.png',dpi=300, bbox_inches = \"tight\")\n",
    "sns.countplot(y=\"ROADCOND\", hue=\"severity\", data=colData)"
   ]
  },
  {
   "cell_type": "code",
   "execution_count": 28,
   "metadata": {},
   "outputs": [
    {
     "data": {
      "text/plain": [
       "<matplotlib.legend.Legend at 0x7f8e4b418940>"
      ]
     },
     "execution_count": 28,
     "metadata": {},
     "output_type": "execute_result"
    },
    {
     "data": {
      "image/png": "[encoded data removed]",
      "text/plain": [
       "<Figure size 1296x432 with 2 Axes>"
      ]
     },
     "metadata": {
      "needs_background": "light"
     },
     "output_type": "display_data"
    }
   ],
   "source": [
    "fig, axs = plt.subplots(ncols=2, figsize=(18,6))\n",
    "plt.subplots_adjust(wspace=0.3)\n",
    "sns.countplot(x=\"VEHCOUNT\", hue=\"severity\", data=colData, ax=axs[0])\n",
    "sns.countplot(x=\"PERSONCOUNT\", hue=\"severity\", data=colData, ax=axs[1])\n",
    "fig.get_axes()[1].legend(loc='upper right', title='severity') \n",
    "#fig.savefig('fig/veh_person_count.png',dpi=300, bbox_inches = \"tight\")"
   ]
  },
  {
   "cell_type": "code",
   "execution_count": 29,
   "metadata": {},
   "outputs": [
    {
     "data": {
      "text/html": [
       "<div>\n",
       "<style scoped>\n",
       "    .dataframe tbody tr th:only-of-type {\n",
       "        vertical-align: middle;\n",
       "    }\n",
       "\n",
       "    .dataframe tbody tr th {\n",
       "        vertical-align: top;\n",
       "    }\n",
       "\n",
       "    .dataframe thead th {\n",
       "        text-align: right;\n",
       "    }\n",
       "</style>\n",
       "<table border=\"1\" class=\"dataframe\">\n",
       "  <thead>\n",
       "    <tr style=\"text-align: right;\">\n",
       "      <th></th>\n",
       "      <th>Blowing Sand/Dirt</th>\n",
       "      <th>Clear</th>\n",
       "      <th>Fog/Smog/Smoke</th>\n",
       "      <th>Overcast</th>\n",
       "      <th>Partly Cloudy</th>\n",
       "      <th>Raining</th>\n",
       "      <th>Severe Crosswind</th>\n",
       "      <th>Sleet/Hail/Freezing Rain</th>\n",
       "      <th>Snowing</th>\n",
       "      <th>Dry</th>\n",
       "      <th>...</th>\n",
       "      <th>Oil</th>\n",
       "      <th>Sand/Mud/Dirt</th>\n",
       "      <th>Snow/Slush</th>\n",
       "      <th>Standing Water</th>\n",
       "      <th>Wet</th>\n",
       "      <th>Dark - No Street Lights</th>\n",
       "      <th>Dark - Street Lights On</th>\n",
       "      <th>Dawn</th>\n",
       "      <th>Daylight</th>\n",
       "      <th>Dusk</th>\n",
       "    </tr>\n",
       "  </thead>\n",
       "  <tbody>\n",
       "    <tr>\n",
       "      <th>0</th>\n",
       "      <td>0</td>\n",
       "      <td>1</td>\n",
       "      <td>0</td>\n",
       "      <td>0</td>\n",
       "      <td>0</td>\n",
       "      <td>0</td>\n",
       "      <td>0</td>\n",
       "      <td>0</td>\n",
       "      <td>0</td>\n",
       "      <td>1</td>\n",
       "      <td>...</td>\n",
       "      <td>0</td>\n",
       "      <td>0</td>\n",
       "      <td>0</td>\n",
       "      <td>0</td>\n",
       "      <td>0</td>\n",
       "      <td>0</td>\n",
       "      <td>1</td>\n",
       "      <td>0</td>\n",
       "      <td>0</td>\n",
       "      <td>0</td>\n",
       "    </tr>\n",
       "    <tr>\n",
       "      <th>1</th>\n",
       "      <td>0</td>\n",
       "      <td>1</td>\n",
       "      <td>0</td>\n",
       "      <td>0</td>\n",
       "      <td>0</td>\n",
       "      <td>0</td>\n",
       "      <td>0</td>\n",
       "      <td>0</td>\n",
       "      <td>0</td>\n",
       "      <td>1</td>\n",
       "      <td>...</td>\n",
       "      <td>0</td>\n",
       "      <td>0</td>\n",
       "      <td>0</td>\n",
       "      <td>0</td>\n",
       "      <td>0</td>\n",
       "      <td>0</td>\n",
       "      <td>0</td>\n",
       "      <td>0</td>\n",
       "      <td>1</td>\n",
       "      <td>0</td>\n",
       "    </tr>\n",
       "    <tr>\n",
       "      <th>2</th>\n",
       "      <td>0</td>\n",
       "      <td>0</td>\n",
       "      <td>0</td>\n",
       "      <td>0</td>\n",
       "      <td>0</td>\n",
       "      <td>1</td>\n",
       "      <td>0</td>\n",
       "      <td>0</td>\n",
       "      <td>0</td>\n",
       "      <td>0</td>\n",
       "      <td>...</td>\n",
       "      <td>0</td>\n",
       "      <td>0</td>\n",
       "      <td>0</td>\n",
       "      <td>0</td>\n",
       "      <td>1</td>\n",
       "      <td>0</td>\n",
       "      <td>1</td>\n",
       "      <td>0</td>\n",
       "      <td>0</td>\n",
       "      <td>0</td>\n",
       "    </tr>\n",
       "    <tr>\n",
       "      <th>3</th>\n",
       "      <td>0</td>\n",
       "      <td>0</td>\n",
       "      <td>0</td>\n",
       "      <td>1</td>\n",
       "      <td>0</td>\n",
       "      <td>0</td>\n",
       "      <td>0</td>\n",
       "      <td>0</td>\n",
       "      <td>0</td>\n",
       "      <td>1</td>\n",
       "      <td>...</td>\n",
       "      <td>0</td>\n",
       "      <td>0</td>\n",
       "      <td>0</td>\n",
       "      <td>0</td>\n",
       "      <td>0</td>\n",
       "      <td>0</td>\n",
       "      <td>0</td>\n",
       "      <td>0</td>\n",
       "      <td>1</td>\n",
       "      <td>0</td>\n",
       "    </tr>\n",
       "    <tr>\n",
       "      <th>4</th>\n",
       "      <td>0</td>\n",
       "      <td>1</td>\n",
       "      <td>0</td>\n",
       "      <td>0</td>\n",
       "      <td>0</td>\n",
       "      <td>0</td>\n",
       "      <td>0</td>\n",
       "      <td>0</td>\n",
       "      <td>0</td>\n",
       "      <td>1</td>\n",
       "      <td>...</td>\n",
       "      <td>0</td>\n",
       "      <td>0</td>\n",
       "      <td>0</td>\n",
       "      <td>0</td>\n",
       "      <td>0</td>\n",
       "      <td>0</td>\n",
       "      <td>0</td>\n",
       "      <td>0</td>\n",
       "      <td>1</td>\n",
       "      <td>0</td>\n",
       "    </tr>\n",
       "  </tbody>\n",
       "</table>\n",
       "<p>5 rows × 21 columns</p>\n",
       "</div>"
      ],
      "text/plain": [
       "   Blowing Sand/Dirt  Clear  Fog/Smog/Smoke  Overcast  Partly Cloudy  Raining  \\\n",
       "0                  0      1               0         0              0        0   \n",
       "1                  0      1               0         0              0        0   \n",
       "2                  0      0               0         0              0        1   \n",
       "3                  0      0               0         1              0        0   \n",
       "4                  0      1               0         0              0        0   \n",
       "\n",
       "   Severe Crosswind  Sleet/Hail/Freezing Rain  Snowing  Dry  ...  Oil  \\\n",
       "0                 0                         0        0    1  ...    0   \n",
       "1                 0                         0        0    1  ...    0   \n",
       "2                 0                         0        0    0  ...    0   \n",
       "3                 0                         0        0    1  ...    0   \n",
       "4                 0                         0        0    1  ...    0   \n",
       "\n",
       "   Sand/Mud/Dirt  Snow/Slush  Standing Water  Wet  Dark - No Street Lights  \\\n",
       "0              0           0               0    0                        0   \n",
       "1              0           0               0    0                        0   \n",
       "2              0           0               0    1                        0   \n",
       "3              0           0               0    0                        0   \n",
       "4              0           0               0    0                        0   \n",
       "\n",
       "   Dark - Street Lights On  Dawn  Daylight  Dusk  \n",
       "0                        1     0         0     0  \n",
       "1                        0     0         1     0  \n",
       "2                        1     0         0     0  \n",
       "3                        0     0         1     0  \n",
       "4                        0     0         1     0  \n",
       "\n",
       "[5 rows x 21 columns]"
      ]
     },
     "execution_count": 29,
     "metadata": {},
     "output_type": "execute_result"
    }
   ],
   "source": [
    "# Rename severity to 0,1\n",
    "colData[\"severity\"] = colData[\"severity\"].replace(1, 0)\n",
    "colData[\"severity\"] = colData[\"severity\"].replace(2, 1)\n",
    "# One hot encoding for the relevant dataset\n",
    "feature = pd.concat([pd.get_dummies(colData['WEATHER']), \n",
    "                     pd.get_dummies(colData['ROADCOND']),\n",
    "                     pd.get_dummies(colData['LIGHTCOND'])], axis=1)\n",
    "feature.head()"
   ]
  },
  {
   "cell_type": "code",
   "execution_count": 30,
   "metadata": {},
   "outputs": [
    {
     "name": "stdout",
     "output_type": "stream",
     "text": [
      "Train set: (78276, 21) (78276,)\n",
      "Test set: (19570, 21) (19570,)\n"
     ]
    }
   ],
   "source": [
    "# Defining X matrix and y vector\n",
    "X = feature\n",
    "y = colData['severity'].values\n",
    "# Normalizing and splitting data\n",
    "from sklearn import preprocessing\n",
    "\n",
    "X = preprocessing.StandardScaler().fit(X).transform(X)\n",
    "X_train, X_test, y_train, y_test = train_test_split(X, y, test_size=0.2, random_state=4)\n",
    "print ('Train set:', X_train.shape,  y_train.shape)\n",
    "print ('Test set:', X_test.shape,  y_test.shape)"
   ]
  },
  {
   "cell_type": "code",
   "execution_count": 31,
   "metadata": {},
   "outputs": [],
   "source": [
    "# K-Nearest Neighbour Classification Method\n"
   ]
  },
  {
   "cell_type": "code",
   "execution_count": 32,
   "metadata": {},
   "outputs": [
    {
     "data": {
      "text/plain": [
       "[<matplotlib.lines.Line2D at 0x7f8e4b2788d0>]"
      ]
     },
     "execution_count": 32,
     "metadata": {},
     "output_type": "execute_result"
    },
    {
     "data": {
      "image/png": "[encoded data removed]",
      "text/plain": [
       "<Figure size 432x288 with 1 Axes>"
      ]
     },
     "metadata": {
      "needs_background": "light"
     },
     "output_type": "display_data"
    }
   ],
   "source": [
    "\n",
    "from sklearn.neighbors import KNeighborsClassifier\n",
    "from sklearn.metrics import accuracy_score\n",
    "\n",
    "# Best k\n",
    "Ks=15\n",
    "accuracy = np.zeros((Ks-1))\n",
    "\n",
    "for n in range(1,Ks):\n",
    "    \n",
    "    #Train Model and Predict  \n",
    "    kNN_model = KNeighborsClassifier(n_neighbors=n).fit(X_train,y_train)\n",
    "    yhat = kNN_model.predict(X_test)\n",
    "    accuracy[n-1] = accuracy_score(y_test, yhat)\n",
    "\n",
    "\n",
    "plt.plot(range(1,Ks), accuracy)"
   ]
  },
  {
   "cell_type": "code",
   "execution_count": 33,
   "metadata": {},
   "outputs": [
    {
     "name": "stdout",
     "output_type": "stream",
     "text": [
      "0.5100153295861012\n"
     ]
    }
   ],
   "source": [
    "# Given the result, the best k value is 7 which also prevents overfitting. Let's re-traing KNN with neighbours = 7 and get the accuracy score.\n",
    "kNN_model = KNeighborsClassifier(n_neighbors=7).fit(X_train,y_train)\n",
    "yhat = kNN_model.predict(X_test)\n",
    "KNN = accuracy_score(y_test, yhat)\n",
    "print(KNN)"
   ]
  },
  {
   "cell_type": "code",
   "execution_count": 34,
   "metadata": {},
   "outputs": [],
   "source": [
    "# Decision Tree"
   ]
  },
  {
   "cell_type": "code",
   "execution_count": 35,
   "metadata": {},
   "outputs": [
    {
     "name": "stdout",
     "output_type": "stream",
     "text": [
      "0.5194174757281553\n"
     ]
    }
   ],
   "source": [
    "from sklearn.tree import DecisionTreeClassifier\n",
    "\n",
    "# Train to the maximum depth\n",
    "#DT_model = DecisionTreeClassifier(criterion=\"entropy\", max_depth = 7)\n",
    "\n",
    "DT_model = DecisionTreeClassifier(criterion=\"entropy\")\n",
    "DT_model.fit(X_train,y_train)\n",
    "yhat = DT_model.predict(X_test)\n",
    "DT = accuracy_score(y_test, yhat)\n",
    "print(DT)"
   ]
  },
  {
   "cell_type": "code",
   "execution_count": 36,
   "metadata": {},
   "outputs": [],
   "source": [
    "# Support Vector Machine"
   ]
  },
  {
   "cell_type": "code",
   "execution_count": 37,
   "metadata": {},
   "outputs": [
    {
     "name": "stdout",
     "output_type": "stream",
     "text": [
      "0.5194685743484926\n"
     ]
    }
   ],
   "source": [
    "from sklearn import svm\n",
    "\n",
    "SVM_model = svm.SVC()\n",
    "SVM_model.fit(X_train, y_train)\n",
    "yhat = SVM_model.predict(X_test)\n",
    "SVM = accuracy_score(y_test, yhat)\n",
    "print(SVM)"
   ]
  },
  {
   "cell_type": "code",
   "execution_count": 38,
   "metadata": {},
   "outputs": [],
   "source": [
    "# Logistic Regression"
   ]
  },
  {
   "cell_type": "code",
   "execution_count": 39,
   "metadata": {},
   "outputs": [
    {
     "name": "stdout",
     "output_type": "stream",
     "text": [
      "0.5183444047010731\n"
     ]
    }
   ],
   "source": [
    "from sklearn.linear_model import LogisticRegression\n",
    "LR_model = LogisticRegression(C=0.01).fit(X_train,y_train)\n",
    "yhat = LR_model.predict(X_test)\n",
    "LR = accuracy_score(y_test, yhat)\n",
    "print(LR)"
   ]
  },
  {
   "cell_type": "code",
   "execution_count": 40,
   "metadata": {},
   "outputs": [],
   "source": [
    "# Random Forest"
   ]
  },
  {
   "cell_type": "code",
   "execution_count": 41,
   "metadata": {},
   "outputs": [
    {
     "name": "stdout",
     "output_type": "stream",
     "text": [
      "0.5196218702095043\n"
     ]
    }
   ],
   "source": [
    "from sklearn.ensemble import RandomForestClassifier\n",
    "\n",
    "RF_model = RandomForestClassifier().fit(X_train,y_train)\n",
    "yhat = RF_model.predict(X_test)\n",
    "RF = accuracy_score(y_test, yhat)\n",
    "print(RF)"
   ]
  },
  {
   "cell_type": "code",
   "execution_count": 42,
   "metadata": {},
   "outputs": [],
   "source": [
    "# Saving the models for later use, to avoid re-training them again. This avoid to spend computer resources and time\n",
    "# Let's save the models for later use (to avoid retrain KNN and SVM)\n",
    "import pickle\n",
    "models = {'KNN_model': kNN_model, 'DT_model': DT_model, 'SVM_model': SVM_model, \n",
    "          'LR_model': LR_model, 'RF_model': RF_model}\n",
    "\n",
    "for filename, model in models.items():\n",
    "    pickle.dump(model, open('models/{}.mdl'.format(filename), 'wb'))"
   ]
  },
  {
   "cell_type": "code",
   "execution_count": 42,
   "metadata": {},
   "outputs": [],
   "source": [
    "# Implement the confusion matrix plotting function"
   ]
  },
  {
   "cell_type": "code",
   "execution_count": 43,
   "metadata": {},
   "outputs": [
    {
     "name": "stdout",
     "output_type": "stream",
     "text": [
      "[[7842 2035]\n",
      " [7366 2327]]\n"
     ]
    }
   ],
   "source": [
    "from sklearn.metrics import jaccard_score, f1_score\n",
    "from sklearn.metrics import classification_report, confusion_matrix\n",
    "import itertools\n",
    "\n",
    "def plot_confusion_matrix(cm, classes,\n",
    "                          normalize=False,\n",
    "                          title='Confusion matrix',\n",
    "                          cmap=plt.cm.Blues):\n",
    "    \"\"\"\n",
    "    This function prints and plots the confusion matrix.\n",
    "    Normalization can be applied by setting `normalize=True`.\n",
    "    \"\"\"\n",
    "    if normalize:\n",
    "        cm = cm.astype('float') / cm.sum(axis=1)[:, np.newaxis]\n",
    "        #print(\"Normalized confusion matrix\")\n",
    "    else:\n",
    "        #print('Confusion matrix, without normalization')\n",
    "        pass\n",
    "\n",
    "    #print(cm)\n",
    "\n",
    "    plt.imshow(cm, interpolation='nearest', cmap=cmap)\n",
    "    plt.title(title)\n",
    "    plt.colorbar()\n",
    "    tick_marks = np.arange(len(classes))\n",
    "    plt.xticks(tick_marks, classes, rotation=45)\n",
    "    plt.yticks(tick_marks, classes)\n",
    "\n",
    "    fmt = '.2f' if normalize else 'd'\n",
    "    thresh = cm.max() / 2.\n",
    "    for i, j in itertools.product(range(cm.shape[0]), range(cm.shape[1])):\n",
    "        plt.text(j, i, format(cm[i, j], fmt),\n",
    "                 horizontalalignment=\"center\",\n",
    "                 color=\"white\" if cm[i, j] > thresh else \"black\")\n",
    "\n",
    "    plt.tight_layout()\n",
    "    plt.ylabel('True label')\n",
    "    plt.xlabel('Predicted label')\n",
    "    \n",
    "print(confusion_matrix(y_test, yhat, labels=[1,0]))"
   ]
  },
  {
   "cell_type": "code",
   "execution_count": 44,
   "metadata": {},
   "outputs": [],
   "source": [
    "# Implement a funtion which benchmarks each trained model"
   ]
  },
  {
   "cell_type": "code",
   "execution_count": 48,
   "metadata": {},
   "outputs": [],
   "source": [
    "def get_scores(name, y_test, yhat):\n",
    "    print(\"Evaluation of {} model\".format(name))\n",
    "    # Compute confusion matrix\n",
    "    cnf_matrix = confusion_matrix(y_test, yhat, labels=[1,0])\n",
    "    np.set_printoptions(precision=2)\n",
    "\n",
    "    # Plot non-normalized confusion matrix\n",
    "    plt.figure()\n",
    "    plot_confusion_matrix(cnf_matrix, classes=['severity=1','severity=0'],\n",
    "                          normalize= False,  title='{} confusion matrix'.format(name))\n",
    "\n",
    "    print(classification_report(y_test, yhat))\n",
    "    print(\"Accuracy score: %.2f\" % accuracy_score(y_test, yhat))\n",
    "    print(\"Jaccard score: %.2f\" % jaccard_score(y_test, yhat))\n",
    "    print(\"f1-score: %.2f\" % f1_score(y_test, yhat, average='weighted'))"
   ]
  },
  {
   "cell_type": "code",
   "execution_count": 46,
   "metadata": {},
   "outputs": [
    {
     "ename": "NameError",
     "evalue": "name 'models' is not defined",
     "output_type": "error",
     "traceback": [
      "\u001b[0;31m---------------------------------------------------------------------------\u001b[0m",
      "\u001b[0;31mNameError\u001b[0m                                 Traceback (most recent call last)",
      "\u001b[0;32m<ipython-input-46-5692bfb694f9>\u001b[0m in \u001b[0;36m<module>\u001b[0;34m\u001b[0m\n\u001b[0;32m----> 1\u001b[0;31m \u001b[0;32mfor\u001b[0m \u001b[0mfilename\u001b[0m\u001b[0;34m,\u001b[0m \u001b[0mmodel\u001b[0m \u001b[0;32min\u001b[0m \u001b[0mmodels\u001b[0m\u001b[0;34m.\u001b[0m\u001b[0mitems\u001b[0m\u001b[0;34m(\u001b[0m\u001b[0;34m)\u001b[0m\u001b[0;34m:\u001b[0m\u001b[0;34m\u001b[0m\u001b[0;34m\u001b[0m\u001b[0m\n\u001b[0m\u001b[1;32m      2\u001b[0m     \u001b[0myhat\u001b[0m \u001b[0;34m=\u001b[0m \u001b[0mmodel\u001b[0m\u001b[0;34m.\u001b[0m\u001b[0mpredict\u001b[0m\u001b[0;34m(\u001b[0m\u001b[0mX_test\u001b[0m\u001b[0;34m)\u001b[0m\u001b[0;34m\u001b[0m\u001b[0;34m\u001b[0m\u001b[0m\n\u001b[1;32m      3\u001b[0m     \u001b[0mget_scores\u001b[0m\u001b[0;34m(\u001b[0m\u001b[0mfilename\u001b[0m\u001b[0;34m,\u001b[0m \u001b[0my_test\u001b[0m\u001b[0;34m,\u001b[0m \u001b[0myhat\u001b[0m\u001b[0;34m)\u001b[0m\u001b[0;34m\u001b[0m\u001b[0;34m\u001b[0m\u001b[0m\n\u001b[1;32m      4\u001b[0m     \u001b[0mprint\u001b[0m\u001b[0;34m(\u001b[0m\u001b[0;34m\"-------------------------\"\u001b[0m\u001b[0;34m)\u001b[0m\u001b[0;34m\u001b[0m\u001b[0;34m\u001b[0m\u001b[0m\n",
      "\u001b[0;31mNameError\u001b[0m: name 'models' is not defined"
     ]
    }
   ],
   "source": [
    "#for filename, model in models.items():\n",
    " #   yhat = model.predict(X_test)\n",
    "  #  get_scores(filename, y_test, yhat)\n",
    "  #  print(\"-------------------------\")"
   ]
  },
  {
   "cell_type": "code",
   "execution_count": null,
   "metadata": {},
   "outputs": [],
   "source": [
    "# Optimization\n",
    "# Based on the results, let's optimize the Logistic Regression and Random Forest Models"
   ]
  },
  {
   "cell_type": "code",
   "execution_count": null,
   "metadata": {},
   "outputs": [],
   "source": [
    "# Create first pipeline for base without reducing features.\n",
    "from sklearn.pipeline import Pipeline\n",
    "from sklearn.model_selection import GridSearchCV\n",
    "\n",
    "pipe = Pipeline([('classifier', RandomForestClassifier())])\n",
    "\n",
    "# Create param grid.\n",
    "\n",
    "param_grid = [\n",
    "    {'classifier' : [LogisticRegression()],\n",
    "     'classifier__penalty' : ['l2'],\n",
    "    'classifier__C' : np.logspace(-4, 4, 20),\n",
    "    'classifier__solver' : ['lbfgs']},\n",
    "    {'classifier' : [RandomForestClassifier()],\n",
    "    'classifier__n_estimators' : list(range(75,85,1)),\n",
    "    'classifier__max_features' : list(range(6,16,1))}\n",
    "]\n",
    "\n",
    "# Create grid search object\n",
    "\n",
    "model = GridSearchCV(pipe, param_grid = param_grid, cv = 5, verbose=True, n_jobs=-1)\n",
    "\n",
    "# Fit on data\n",
    "\n",
    "best_model = model.fit(X_train, y_train)"
   ]
  },
  {
   "cell_type": "code",
   "execution_count": null,
   "metadata": {},
   "outputs": [],
   "source": [
    "print(best_model.best_params_)\n",
    "yhat = best_model.predict(X_test)\n",
    "get_scores('Best Model', y_test, yhat)"
   ]
  },
  {
   "cell_type": "code",
   "execution_count": null,
   "metadata": {},
   "outputs": [],
   "source": [
    "# Save optimized model in the respective folder\n",
    "# pickle.dump(best_model, open('models/{}.mdl'.format('RF_optimized'), 'wb'))"
   ]
  },
  {
   "cell_type": "code",
   "execution_count": null,
   "metadata": {},
   "outputs": [],
   "source": []
  }
 ],
 "metadata": {
  "kernelspec": {
   "display_name": "Python",
   "language": "python",
   "name": "conda-env-python-py"
  },
  "language_info": {
   "codemirror_mode": {
    "name": "ipython",
    "version": 3
   },
   "file_extension": ".py",
   "mimetype": "text/x-python",
   "name": "python",
   "nbconvert_exporter": "python",
   "pygments_lexer": "ipython3",
   "version": "3.6.11"
  }
 },
 "nbformat": 4,
 "nbformat_minor": 4
}
