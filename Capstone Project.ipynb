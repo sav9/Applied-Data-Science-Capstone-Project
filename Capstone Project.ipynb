# This notebook will be mostly used for capstone project"

import pandas as pd # primary data structure library
import numpy as np  # useful for many scientific computing in Python
print ("Hello Capstone Project Course!") # Command for printing
